{
 "cells": [
  {
   "cell_type": "code",
   "execution_count": 7,
   "id": "d1a55d6c-d187-475f-9726-67169194e98c",
   "metadata": {},
   "outputs": [],
   "source": [
    "from scrape_api import TweetsGetter"
   ]
  },
  {
   "cell_type": "code",
   "execution_count": 8,
   "id": "68a7f229-6709-4373-9a8b-e03efa31d8cf",
   "metadata": {},
   "outputs": [],
   "source": [
    "if __name__ == '__main__':\n",
    "    \n",
    "    # get tweets by keyword\n",
    "    getter = TweetsGetter.bySearch(u'#datascience')\n",
    "    \n",
    "    # get tweets by user (screen_name)\n",
    "    #getter = TweetsGetter.byUser('@realDonaldTrump')\n",
    "    \n",
    "    list_text = []\n",
    "    list_id = []\n",
    "    list_user_screenname = []\n",
    "    list_created_at = []\n",
    "    \n",
    "    for tweet in getter.collect(total = 10): # total is number of tweets to get\n",
    "        list_text.append(tweet['text'])\n",
    "        list_id.append(tweet['id'])\n",
    "        list_user_screenname.append(tweet['user']['screen_name'])\n",
    "        list_created_at.append(tweet['created_at'])"
   ]
  },
  {
   "cell_type": "code",
   "execution_count": 9,
   "id": "eca895f9-f09f-4081-b167-d43b87664740",
   "metadata": {},
   "outputs": [
    {
     "data": {
      "text/plain": [
       "['Check out my #Gig on Fiverr\\nhttps://t.co/CMSxeQd0zU\\n\\n#100DaysOfCode #MachineLearning #Python #IoT #node… https://t.co/kPZ54Fp6YI',\n",
       " 'Anna University was established in 1978 as a state technical institute. It is located in Chennai, Tamil Nadu, India… https://t.co/ieswF9n68z',\n",
       " 'Les comparto algunas páginas donde se encuentran disponibles Dataset de manera gratuita para realizar distintos tra… https://t.co/U4dfViJTyh',\n",
       " 'Linear Algebra and Optimization for Machine Learning: A Textbook https://t.co/zXoaRZ74Fb #datascience #ad',\n",
       " '#Robot working out!\\nby @ScienceNews\\n\\n#AI #BigData #MachineLearning #ArtificialIntelligence #ML #DL… https://t.co/EQWWLrGmaT',\n",
       " 'A Guide to Build your Data Lake in AWS\\n\\nRead more in Analytics Vidhya : https://t.co/1nOYDNJVI9\\n\\n#DataScience… https://t.co/SOtfGjmLN4',\n",
       " 'Exclusive #Interview with 2x #Kaggle Grandmaster Marios Michailidis, holding the titles in Competitions and Discuss… https://t.co/PhVx1XwizY',\n",
       " 'Humanizing Your Data - listen to a great Data Science podcast #DataScience #podcast @dataiku https://t.co/KoUvGyLTil https://t.co/JsSegYipid',\n",
       " 'Knowing the hiring process from my perspective, the hiring manager, reveals strategies that make your job search mo… https://t.co/GbYrsksqTt',\n",
       " \"🚨📢 | We're Hiring! We are looking for talented Data Analysts, Big Data Engineers and Project Managers to join our g… https://t.co/GcICaB8t5O\"]"
      ]
     },
     "execution_count": 9,
     "metadata": {},
     "output_type": "execute_result"
    }
   ],
   "source": [
    "list_text"
   ]
  },
  {
   "cell_type": "code",
   "execution_count": null,
   "id": "45526efc-847a-4b29-85d5-0df61a60da10",
   "metadata": {},
   "outputs": [],
   "source": []
  }
 ],
 "metadata": {
  "kernelspec": {
   "display_name": "Python 3",
   "language": "python",
   "name": "python3"
  },
  "language_info": {
   "codemirror_mode": {
    "name": "ipython",
    "version": 3
   },
   "file_extension": ".py",
   "mimetype": "text/x-python",
   "name": "python",
   "nbconvert_exporter": "python",
   "pygments_lexer": "ipython3",
   "version": "3.8.2"
  }
 },
 "nbformat": 4,
 "nbformat_minor": 5
}
