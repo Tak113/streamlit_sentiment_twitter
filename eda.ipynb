{
 "cells": [
  {
   "cell_type": "markdown",
   "id": "f432347f-df07-4e54-84a9-17d233ab4355",
   "metadata": {},
   "source": [
    "## Model"
   ]
  },
  {
   "cell_type": "code",
   "execution_count": 1,
   "id": "20669446-4396-4d68-94b5-c96961c1bdb8",
   "metadata": {},
   "outputs": [],
   "source": [
    "from flair.models import TextClassifier\n",
    "from flair.data import Sentence\n",
    "import numpy as np\n",
    "global tagger "
   ]
  },
  {
   "cell_type": "code",
   "execution_count": 2,
   "id": "5a304357-08b9-425d-9825-c8ae39158442",
   "metadata": {},
   "outputs": [],
   "source": [
    "def load_flair():\n",
    "    return TextClassifier.load('en-sentiment')"
   ]
  },
  {
   "cell_type": "code",
   "execution_count": 3,
   "id": "ebf0812e-ade3-4b2c-9cf8-3a98cc9d0a86",
   "metadata": {},
   "outputs": [
    {
     "name": "stdout",
     "output_type": "stream",
     "text": [
      "2021-04-24 23:36:07,861 loading file /Users/tak/.flair/models/sentiment-en-mix-distillbert_4.pt\n"
     ]
    }
   ],
   "source": [
    "tagger = load_flair()"
   ]
  },
  {
   "cell_type": "code",
   "execution_count": 4,
   "id": "11b90da7-77df-4c4b-a8a3-b6e9287fbdbe",
   "metadata": {},
   "outputs": [],
   "source": [
    "input = 'I love Tokyo'\n",
    "s = Sentence(input)\n",
    "tagger.predict(s)"
   ]
  },
  {
   "cell_type": "code",
   "execution_count": 5,
   "id": "2d731dbb-c1c2-470e-833f-f4fec04bec83",
   "metadata": {},
   "outputs": [
    {
     "data": {
      "text/plain": [
       "Sentence: \"I love Tokyo\"   [− Tokens: 3  − Sentence-Labels: {'label': [POSITIVE (0.9945)]}]"
      ]
     },
     "execution_count": 5,
     "metadata": {},
     "output_type": "execute_result"
    }
   ],
   "source": [
    "s"
   ]
  },
  {
   "cell_type": "code",
   "execution_count": 6,
   "id": "edec5fee-5350-4609-8716-f5975647db16",
   "metadata": {},
   "outputs": [
    {
     "data": {
      "text/plain": [
       "[POSITIVE (0.9945)]"
      ]
     },
     "execution_count": 6,
     "metadata": {},
     "output_type": "execute_result"
    }
   ],
   "source": [
    "s.labels"
   ]
  },
  {
   "cell_type": "code",
   "execution_count": 7,
   "id": "c0f46dc2-44a7-420c-a2a5-412c86549d4c",
   "metadata": {},
   "outputs": [],
   "source": [
    "score = s.labels[0].score"
   ]
  },
  {
   "cell_type": "code",
   "execution_count": 8,
   "id": "584e5a1a-db1b-470c-b076-c1fbb7c9e166",
   "metadata": {},
   "outputs": [
    {
     "data": {
      "text/plain": [
       "99.45"
      ]
     },
     "execution_count": 8,
     "metadata": {},
     "output_type": "execute_result"
    }
   ],
   "source": [
    "round(score*100,2)"
   ]
  },
  {
   "cell_type": "markdown",
   "id": "420c2535-16f5-4896-a8e1-5f97dc68108e",
   "metadata": {},
   "source": [
    "## Twitterscraper (not working)"
   ]
  },
  {
   "cell_type": "code",
   "execution_count": 9,
   "id": "b32e8655-439a-4052-8559-16f970fbc471",
   "metadata": {},
   "outputs": [],
   "source": [
    "from twitterscraper import query_tweets\n",
    "import datetime as dt\n",
    "import re"
   ]
  },
  {
   "cell_type": "code",
   "execution_count": 10,
   "id": "63ce029e-d6cd-447e-bbaa-f6cb4b364fda",
   "metadata": {},
   "outputs": [],
   "source": [
    "query = '#datascience'"
   ]
  },
  {
   "cell_type": "code",
   "execution_count": 11,
   "id": "1dfcf27a-16ed-4d81-9b27-a390a3c00fb1",
   "metadata": {},
   "outputs": [],
   "source": [
    "tweets = query_tweets(query, limit=10, begindate=dt.date.today() - dt.timedelta(weeks=1), lang='en')"
   ]
  },
  {
   "cell_type": "code",
   "execution_count": 12,
   "id": "fc57e6f8-7ef1-4bdd-8ba5-4338fa69a43f",
   "metadata": {},
   "outputs": [
    {
     "data": {
      "text/plain": [
       "[]"
      ]
     },
     "execution_count": 12,
     "metadata": {},
     "output_type": "execute_result"
    }
   ],
   "source": [
    "tweets"
   ]
  },
  {
   "cell_type": "markdown",
   "id": "bee3454a-d56f-43e0-9014-d585c4318671",
   "metadata": {},
   "source": [
    "## Scweet"
   ]
  },
  {
   "cell_type": "code",
   "execution_count": 13,
   "id": "a6b255e2-6249-4ed1-92c3-d1f935fc1c96",
   "metadata": {},
   "outputs": [],
   "source": [
    "from Scweet.scweet import scrap\n",
    "from Scweet.user import get_user_information, get_users_following, get_users_followers"
   ]
  },
  {
   "cell_type": "code",
   "execution_count": 17,
   "id": "2197d13b-03b5-491e-8c73-786318e9b35a",
   "metadata": {},
   "outputs": [
    {
     "name": "stdout",
     "output_type": "stream",
     "text": [
      "Scraping on headless mode.\n",
      "looking for tweets between 2020-04-01 and 2020-04-02 ...\n",
      " path : https://twitter.com/search?q=(covid%20OR%20covid19)%20until%3A2020-04-02%20since%3A2020-04-01%20%20-filter%3Areplies&src=typed_query&lf=on\n",
      "scroll  1\n",
      "scroll  2\n",
      "looking for tweets between 2020-04-02 and 2020-04-03 ...\n",
      " path : https://twitter.com/search?q=(covid%20OR%20covid19)%20until%3A2020-04-03%20since%3A2020-04-02%20%20-filter%3Areplies&src=typed_query&lf=on\n",
      "scroll  1\n",
      "scroll  2\n",
      "looking for tweets between 2020-04-03 and 2020-04-04 ...\n",
      " path : https://twitter.com/search?q=(covid%20OR%20covid19)%20until%3A2020-04-04%20since%3A2020-04-03%20%20-filter%3Areplies&src=typed_query&lf=on\n",
      "scroll  1\n",
      "scroll  2\n",
      "looking for tweets between 2020-04-04 and 2020-04-05 ...\n",
      " path : https://twitter.com/search?q=(covid%20OR%20covid19)%20until%3A2020-04-05%20since%3A2020-04-04%20%20-filter%3Areplies&src=typed_query&lf=on\n",
      "scroll  1\n",
      "scroll  2\n",
      "looking for tweets between 2020-04-05 and 2020-04-06 ...\n",
      " path : https://twitter.com/search?q=(covid%20OR%20covid19)%20until%3A2020-04-06%20since%3A2020-04-05%20%20-filter%3Areplies&src=typed_query&lf=on\n",
      "scroll  1\n",
      "scroll  2\n",
      "looking for tweets between 2020-04-06 and 2020-04-07 ...\n",
      " path : https://twitter.com/search?q=(covid%20OR%20covid19)%20until%3A2020-04-07%20since%3A2020-04-06%20%20-filter%3Areplies&src=typed_query&lf=on\n",
      "scroll  1\n",
      "scroll  2\n",
      "looking for tweets between 2020-04-07 and 2020-04-08 ...\n",
      " path : https://twitter.com/search?q=(covid%20OR%20covid19)%20until%3A2020-04-08%20since%3A2020-04-07%20%20-filter%3Areplies&src=typed_query&lf=on\n",
      "scroll  1\n",
      "scroll  2\n",
      "looking for tweets between 2020-04-08 and 2020-04-09 ...\n",
      " path : https://twitter.com/search?q=(covid%20OR%20covid19)%20until%3A2020-04-09%20since%3A2020-04-08%20%20-filter%3Areplies&src=typed_query&lf=on\n",
      "scroll  1\n",
      "scroll  2\n",
      "looking for tweets between 2020-04-09 and 2020-04-10 ...\n",
      " path : https://twitter.com/search?q=(covid%20OR%20covid19)%20until%3A2020-04-10%20since%3A2020-04-09%20%20-filter%3Areplies&src=typed_query&lf=on\n",
      "scroll  1\n",
      "scroll  2\n"
     ]
    }
   ],
   "source": [
    "# scrape top tweets with the words 'covid','covid19' in proximity and without replies.\n",
    "# the process is slower as the interval is smaller (choose an interval that can divide the period of time betwee, start and max date)\n",
    "data = scrap(words=['covid','covid19'], start_date=\"2020-04-01\", max_date=\"2020-04-10\", from_account = None,interval=1, \n",
    "      headless=True, display_type=\"Top\", save_images=False, \n",
    "             resume=False, filter_replies=True, proximity=True)"
   ]
  },
  {
   "cell_type": "code",
   "execution_count": 18,
   "id": "c9fa42d3-28d9-48cd-a11e-4deef8300c5f",
   "metadata": {},
   "outputs": [
    {
     "data": {
      "text/html": [
       "<div>\n",
       "<style scoped>\n",
       "    .dataframe tbody tr th:only-of-type {\n",
       "        vertical-align: middle;\n",
       "    }\n",
       "\n",
       "    .dataframe tbody tr th {\n",
       "        vertical-align: top;\n",
       "    }\n",
       "\n",
       "    .dataframe thead th {\n",
       "        text-align: right;\n",
       "    }\n",
       "</style>\n",
       "<table border=\"1\" class=\"dataframe\">\n",
       "  <thead>\n",
       "    <tr style=\"text-align: right;\">\n",
       "      <th></th>\n",
       "      <th>UserScreenName</th>\n",
       "      <th>UserName</th>\n",
       "      <th>Timestamp</th>\n",
       "      <th>Text</th>\n",
       "      <th>Embedded_text</th>\n",
       "      <th>Emojis</th>\n",
       "      <th>Comments</th>\n",
       "      <th>Likes</th>\n",
       "      <th>Retweets</th>\n",
       "      <th>Image link</th>\n",
       "      <th>Tweet URL</th>\n",
       "    </tr>\n",
       "  </thead>\n",
       "  <tbody>\n",
       "  </tbody>\n",
       "</table>\n",
       "</div>"
      ],
      "text/plain": [
       "Empty DataFrame\n",
       "Columns: [UserScreenName, UserName, Timestamp, Text, Embedded_text, Emojis, Comments, Likes, Retweets, Image link, Tweet URL]\n",
       "Index: []"
      ]
     },
     "execution_count": 18,
     "metadata": {},
     "output_type": "execute_result"
    }
   ],
   "source": [
    "data"
   ]
  },
  {
   "cell_type": "code",
   "execution_count": 19,
   "id": "057afa59-84dd-49bb-a535-5e6103588dd2",
   "metadata": {},
   "outputs": [
    {
     "name": "stdout",
     "output_type": "stream",
     "text": [
      "Scraping on headless mode.\n",
      "looking for tweets between 2020-04-01 and 2020-04-02 ...\n",
      " path : https://twitter.com/search?q=(%23covid19)%20until%3A2020-04-02%20since%3A2020-04-01%20%20-filter%3Areplies&src=typed_query&lf=on\n",
      "scroll  1\n",
      "scroll  2\n",
      "looking for tweets between 2020-04-02 and 2020-04-03 ...\n",
      " path : https://twitter.com/search?q=(%23covid19)%20until%3A2020-04-03%20since%3A2020-04-02%20%20-filter%3Areplies&src=typed_query&lf=on\n",
      "scroll  1\n",
      "scroll  2\n",
      "looking for tweets between 2020-04-03 and 2020-04-04 ...\n",
      " path : https://twitter.com/search?q=(%23covid19)%20until%3A2020-04-04%20since%3A2020-04-03%20%20-filter%3Areplies&src=typed_query&lf=on\n",
      "scroll  1\n",
      "scroll  2\n",
      "looking for tweets between 2020-04-04 and 2020-04-05 ...\n",
      " path : https://twitter.com/search?q=(%23covid19)%20until%3A2020-04-05%20since%3A2020-04-04%20%20-filter%3Areplies&src=typed_query&lf=on\n",
      "scroll  1\n",
      "scroll  2\n",
      "looking for tweets between 2020-04-05 and 2020-04-06 ...\n",
      " path : https://twitter.com/search?q=(%23covid19)%20until%3A2020-04-06%20since%3A2020-04-05%20%20-filter%3Areplies&src=typed_query&lf=on\n",
      "scroll  1\n",
      "scroll  2\n",
      "looking for tweets between 2020-04-06 and 2020-04-07 ...\n",
      " path : https://twitter.com/search?q=(%23covid19)%20until%3A2020-04-07%20since%3A2020-04-06%20%20-filter%3Areplies&src=typed_query&lf=on\n",
      "scroll  1\n",
      "scroll  2\n",
      "looking for tweets between 2020-04-07 and 2020-04-08 ...\n",
      " path : https://twitter.com/search?q=(%23covid19)%20until%3A2020-04-08%20since%3A2020-04-07%20%20-filter%3Areplies&src=typed_query&lf=on\n",
      "scroll  1\n",
      "scroll  2\n",
      "looking for tweets between 2020-04-08 and 2020-04-09 ...\n",
      " path : https://twitter.com/search?q=(%23covid19)%20until%3A2020-04-09%20since%3A2020-04-08%20%20-filter%3Areplies&src=typed_query&lf=on\n",
      "scroll  1\n",
      "scroll  2\n",
      "looking for tweets between 2020-04-09 and 2020-04-10 ...\n",
      " path : https://twitter.com/search?q=(%23covid19)%20until%3A2020-04-10%20since%3A2020-04-09%20%20-filter%3Areplies&src=typed_query&lf=on\n",
      "scroll  1\n",
      "scroll  2\n",
      "looking for tweets between 2020-04-10 and 2020-04-11 ...\n",
      " path : https://twitter.com/search?q=(%23covid19)%20until%3A2020-04-11%20since%3A2020-04-10%20%20-filter%3Areplies&src=typed_query&lf=on\n",
      "scroll  1\n",
      "scroll  2\n",
      "looking for tweets between 2020-04-11 and 2020-04-12 ...\n",
      " path : https://twitter.com/search?q=(%23covid19)%20until%3A2020-04-12%20since%3A2020-04-11%20%20-filter%3Areplies&src=typed_query&lf=on\n",
      "scroll  1\n",
      "scroll  2\n",
      "looking for tweets between 2020-04-12 and 2020-04-13 ...\n",
      " path : https://twitter.com/search?q=(%23covid19)%20until%3A2020-04-13%20since%3A2020-04-12%20%20-filter%3Areplies&src=typed_query&lf=on\n",
      "scroll  1\n",
      "scroll  2\n",
      "looking for tweets between 2020-04-13 and 2020-04-14 ...\n",
      " path : https://twitter.com/search?q=(%23covid19)%20until%3A2020-04-14%20since%3A2020-04-13%20%20-filter%3Areplies&src=typed_query&lf=on\n",
      "scroll  1\n",
      "scroll  2\n",
      "looking for tweets between 2020-04-14 and 2020-04-15 ...\n",
      " path : https://twitter.com/search?q=(%23covid19)%20until%3A2020-04-15%20since%3A2020-04-14%20%20-filter%3Areplies&src=typed_query&lf=on\n",
      "scroll  1\n",
      "scroll  2\n"
     ]
    }
   ],
   "source": [
    "\n",
    "# scrape top tweets of with the hashtag #covid19, in proximity and without replies.\n",
    "# the process is slower as the interval is smaller (choose an interval that can divide the period of time betwee, start and max date)\n",
    "data = scrap(hashtag=\"covid19\", start_date=\"2020-04-01\", max_date=\"2020-04-15\", from_account = None,interval=1, \n",
    "      headless=True, display_type=\"Top\", save_images=False, \n",
    "             resume=False, filter_replies=True, proximity=True)"
   ]
  },
  {
   "cell_type": "code",
   "execution_count": null,
   "id": "dfc234ea-5c82-4f05-b2c3-f046eb913bb2",
   "metadata": {},
   "outputs": [],
   "source": []
  }
 ],
 "metadata": {
  "kernelspec": {
   "display_name": "Python 3",
   "language": "python",
   "name": "python3"
  },
  "language_info": {
   "codemirror_mode": {
    "name": "ipython",
    "version": 3
   },
   "file_extension": ".py",
   "mimetype": "text/x-python",
   "name": "python",
   "nbconvert_exporter": "python",
   "pygments_lexer": "ipython3",
   "version": "3.8.2"
  }
 },
 "nbformat": 4,
 "nbformat_minor": 5
}
